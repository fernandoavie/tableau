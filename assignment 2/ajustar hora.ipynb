{
 "cells": [
  {
   "cell_type": "code",
   "execution_count": 3,
   "metadata": {},
   "outputs": [],
   "source": [
    "import pandas as pd\n",
    "\n",
    "# Load the Excel file\n",
    "df = pd.read_excel('nyc_slice_rawdata.xlsx', sheet_name='Sheet1')\n",
    "\n",
    "# Function to reformat the date\n",
    "def reformat_date(date_str):\n",
    "    return f\"{date_str[:7]}-{date_str[7:]}\"\n",
    "\n",
    "# Apply the function to the date column\n",
    "df['Date'] = df['Date'].apply(reformat_date)  # Change 'Date' to your actual column name\n",
    "\n",
    "# Save the updated DataFrame back to the Excel file\n",
    "df.to_excel('nyc_slice_rawdata_updated.xlsx', index=False)"
   ]
  }
 ],
 "metadata": {
  "kernelspec": {
   "display_name": "base",
   "language": "python",
   "name": "python3"
  },
  "language_info": {
   "codemirror_mode": {
    "name": "ipython",
    "version": 3
   },
   "file_extension": ".py",
   "mimetype": "text/x-python",
   "name": "python",
   "nbconvert_exporter": "python",
   "pygments_lexer": "ipython3",
   "version": "3.11.4"
  }
 },
 "nbformat": 4,
 "nbformat_minor": 2
}
